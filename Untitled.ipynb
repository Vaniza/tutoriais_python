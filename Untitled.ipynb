{
 "cells": [
  {
   "cell_type": "markdown",
   "metadata": {},
   "source": [
    "## Resolvendo um Sistema de Equações Lineares com Python\n",
    "\n",
    "Matematicamente, um sistema linear (ou sistema de equações lineares) é definido com um conjunto limitado de $m$ equações lineares, sendo também o número $n$ de variáveis finito.\n",
    "\n",
    "Sua forma segue o seguinte padrão:\n",
    "\n",
    "$$\n",
    "\\begin{cases} a_{11}x_{1} + a_{12}x_2 + \\dots + a_{1n}x_n = b_1 \\\\ a_{21}x_{1} + a_{22}x_2 + \\dots + a_{2n}x_n = b_2 \\\\ \\dots \\\\ \\dots \\\\ a_{m1}x_{1} + a_{m2}x_2 + \\dots + a_{mn}x_n = b_m \\end{cases}\n",
    "$$\n",
    "\n",
    "Existem diversas maneiras de se resolver um sistema linear, e não é do escopo deste artigo entrar em nenhuma delas, apenas apresentar duas maneiras de resolvê-las: \"manualmente\" e usando a biblioteca ```numpy.linalg```. \n",
    "\n",
    "### Resolvendo por meio de uma equação matricial\n",
    "\n",
    "Vamos pegar um exemplo envolvendo o tipo mais simples que um sistema linear pode ter: um sistema linear com duas equações e duas variáveis.\n",
    "\n",
    "Para isso, considere o sistema de equações lineares do exemplo abaixo:\n",
    "\n",
    "\n",
    "$$\n",
    "\\begin{cases} x & + y & = 6 \\\\ -3x & + y & = 2 \\end{cases}\n",
    "$$\n",
    "\n",
    "Um sistema com equações lineares pode ser representado na forma de matriz. Neste caso, nas linhas estarão os coeficientes das incógnitas, com as colunas representando o posicionamento de cada termo no sistema.\n",
    "\n",
    "A equação acima tem a seguinte representação matricial:\n",
    "\n",
    "$$ \\mathbf{A} \\mathbf{X} = \\mathbf{B} $$\n",
    "\n",
    "$$\n",
    "\\begin{bmatrix}\n",
    "1 & 1 \\\\\n",
    "-3 &  1  \n",
    "\\end{bmatrix}  \n",
    "\\begin{bmatrix}\n",
    "x \\\\\n",
    "y  \n",
    "\\end{bmatrix}  \n",
    "=  \\begin{bmatrix}\n",
    "6 \\\\\n",
    "2  \n",
    "\\end{bmatrix}  \n",
    "$$\n",
    "\n",
    "Assim, para representar matricialmente o nosso problema no Python, vamos definir 3 elementos:\n",
    "\n",
    "$$\n",
    "\\mathbf{A} =  \\begin{bmatrix}\n",
    "1 & 1 \\\\\n",
    "-3 &  1  \n",
    "\\end{bmatrix}  \n",
    "$$\n",
    "\n",
    "$$\n",
    "\\mathbf{X} =  \\begin{bmatrix}\n",
    "x \\\\\n",
    "y  \n",
    "\\end{bmatrix}  \n",
    "$$\n",
    "\n",
    "$$\n",
    "\\mathbf{B} =  \\begin{bmatrix}\n",
    "6 \\\\\n",
    "2  \n",
    "\\end{bmatrix}  \n",
    "$$\n",
    "\n",
    "Utilizando algumas propriedades das matrizes, podemos isolar então o vetor $X$ com as variáveis desconhecidas. Assim, para encontrar a solução do problema, basta resolver o produto entre a inversa da matrix $A$ e a matrix $B$.\n",
    "\n",
    "$$ A X = B $$\n",
    "$$ A^{-1} A X = A^{-1} B $$\n",
    "$$ \\mathbf{X} = \\mathbf{A^{-1}} \\mathbf{B} $$"
   ]
  },
  {
   "cell_type": "markdown",
   "metadata": {},
   "source": [
    "Vamos utilizar a biblioteca ```numpy``` para declarar as variáveis e realizar as operações com matrizes."
   ]
  },
  {
   "cell_type": "code",
   "execution_count": 1,
   "metadata": {},
   "outputs": [
    {
     "name": "stdout",
     "output_type": "stream",
     "text": [
      "x =  [ 1.]\n",
      "y =  [ 5.]\n"
     ]
    }
   ],
   "source": [
    "import numpy as np\n",
    "\n",
    "# declarar as matrizes\n",
    "A = np.array([[1,1],[-3,1]])\n",
    "B = np.array([[6],[2]])\n",
    "\n",
    "# Encontrar a inversa de A\n",
    "A_inversa = np.linalg.inv(A)\n",
    "\n",
    "# Encontrar X = A^{-1} * B\n",
    "X = np.dot(A_inversa, B)\n",
    "\n",
    "print(\"x = \", X[0])\n",
    "print(\"y = \", X[1])"
   ]
  },
  {
   "cell_type": "markdown",
   "metadata": {},
   "source": [
    "### Resolvendo com ```np.linalg.solve()```\n",
    "\n",
    "O exemplo acima foi só para você entender como as coisas ocorrem nos bastidores, e relembrar os conceitos por traz dos sistemas lineares.\n",
    "\n",
    "Entretanto, para se resolver de uma maneira bem mais fácil, tudo o que precisamos é declarar as variáveis $A$ e $B$ e usar a funcão ```np.linalg.solve(A,B)```. Veja abaixo:\n"
   ]
  },
  {
   "cell_type": "code",
   "execution_count": 3,
   "metadata": {},
   "outputs": [
    {
     "name": "stdout",
     "output_type": "stream",
     "text": [
      "x =  [ 1.]\n",
      "y =  [ 5.]\n"
     ]
    }
   ],
   "source": [
    "import numpy as np\n",
    "\n",
    "# declarar as matrizes\n",
    "A = np.array([[1,1],[-3,1]])\n",
    "B = np.array([[6],[2]])\n",
    "\n",
    "# encontraremos X usando a função solve()\n",
    "X = np.linalg.solve(A,B)\n",
    "\n",
    "# mostrar o \n",
    "print(\"x = \", X[0])\n",
    "print(\"y = \", X[1])"
   ]
  },
  {
   "cell_type": "markdown",
   "metadata": {},
   "source": [
    "E como previsto, chegamos no mesmo resultado!\n",
    "\n",
    "E foi isso então, um breve artigo para entender como resolver um sistema de equações lineares e ver como podemos resolvê-lo com pocas linhas de códigos."
   ]
  },
  {
   "cell_type": "code",
   "execution_count": null,
   "metadata": {},
   "outputs": [],
   "source": []
  }
 ],
 "metadata": {
  "anaconda-cloud": {},
  "kernelspec": {
   "display_name": "Python [conda root]",
   "language": "python",
   "name": "conda-root-py"
  },
  "language_info": {
   "codemirror_mode": {
    "name": "ipython",
    "version": 3
   },
   "file_extension": ".py",
   "mimetype": "text/x-python",
   "name": "python",
   "nbconvert_exporter": "python",
   "pygments_lexer": "ipython3",
   "version": "3.5.4"
  }
 },
 "nbformat": 4,
 "nbformat_minor": 2
}
